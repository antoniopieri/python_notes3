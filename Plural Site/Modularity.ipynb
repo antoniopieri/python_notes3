{
 "cells": [
  {
   "cell_type": "markdown",
   "metadata": {},
   "source": [
    "Modularity\n",
    "See words.py file. \n",
    "This will be used as a module.\n",
    "Contains a function\n",
    "\n",
    "\n",
    "Import whole module: \n",
    "Use **'import words'**. To call the function use **'words.fetch_words()'**\n",
    "Import particular function: \n",
    "Use **'from words import fetch_words'.** Then use **fetch_words()** to call the function\n",
    "    "
   ]
  }
 ],
 "metadata": {
  "kernelspec": {
   "display_name": "Python 3",
   "language": "python",
   "name": "python3"
  },
  "language_info": {
   "codemirror_mode": {
    "name": "ipython",
    "version": 3
   },
   "file_extension": ".py",
   "mimetype": "text/x-python",
   "name": "python",
   "nbconvert_exporter": "python",
   "pygments_lexer": "ipython3",
   "version": "3.6.5"
  }
 },
 "nbformat": 4,
 "nbformat_minor": 2
}
