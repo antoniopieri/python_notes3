{
 "cells": [
  {
   "cell_type": "markdown",
   "metadata": {},
   "source": [
    "While Loops"
   ]
  },
  {
   "cell_type": "code",
   "execution_count": null,
   "metadata": {},
   "outputs": [],
   "source": []
  },
  {
   "cell_type": "code",
   "execution_count": 9,
   "metadata": {},
   "outputs": [
    {
     "name": "stdout",
     "output_type": "stream",
     "text": [
      "10\n"
     ]
    }
   ],
   "source": [
    "\n",
    "c=10\n",
    "while c!=0 :\n",
    "    print(c)\n",
    "    c=c-1\n",
    "    "
   ]
  },
  {
   "cell_type": "markdown",
   "metadata": {},
   "source": [
    "**Strings and Collections**\n",
    "\n",
    "Byte Strings\n",
    "Unicode Strins "
   ]
  },
  {
   "cell_type": "markdown",
   "metadata": {},
   "source": [
    "Strings"
   ]
  },
  {
   "cell_type": "code",
   "execution_count": 27,
   "metadata": {},
   "outputs": [
    {
     "data": {
      "text/plain": [
       "'r'"
      ]
     },
     "execution_count": 27,
     "metadata": {},
     "output_type": "execute_result"
    }
   ],
   "source": [
    "m='parrot' #this selects particular character of the string\n",
    "m[2]    "
   ]
  },
  {
   "cell_type": "code",
   "execution_count": 28,
   "metadata": {},
   "outputs": [
    {
     "data": {
      "text/plain": [
       "'Hello'"
      ]
     },
     "execution_count": 28,
     "metadata": {},
     "output_type": "execute_result"
    }
   ],
   "source": [
    "c='hello'\n",
    "c.capitalize() #this capitlises first letter in the string"
   ]
  },
  {
   "cell_type": "markdown",
   "metadata": {},
   "source": [
    "Bytes"
   ]
  },
  {
   "cell_type": "code",
   "execution_count": 35,
   "metadata": {},
   "outputs": [
    {
     "data": {
      "text/plain": [
       "[b'some', b'bites']"
      ]
     },
     "execution_count": 35,
     "metadata": {},
     "output_type": "execute_result"
    }
   ],
   "source": [
    "c=b'some bites'\n",
    "c.split()\n"
   ]
  },
  {
   "cell_type": "markdown",
   "metadata": {},
   "source": [
    "Converting Strings to Bites  (.encode())"
   ]
  },
  {
   "cell_type": "code",
   "execution_count": 11,
   "metadata": {},
   "outputs": [
    {
     "name": "stdout",
     "output_type": "stream",
     "text": [
      "b'\\xce\\xbc\\xce\\xbf\\xcf\\x85 \\xce\\xb1\\xcf\\x81\\xce\\xb5\\xcf\\x83\\xce\\xb5\\xce\\xb9 \\xce\\xbd\\xce\\xb1 \\xcf\\x80\\xce\\xb1\\xce\\xb9\\xce\\xb6\\xcf\\x89 \\xcf\\x80\\xce\\xbf\\xce\\xb4\\xce\\xbf\\xcf\\x83\\xcf\\x86\\xce\\xb1\\xce\\xb9\\xcf\\x81\\xce\\xbf'\n"
     ]
    }
   ],
   "source": [
    "greek= \"μου αρεσει να παιζω ποδοσφαιρο\"\n",
    "unicode = greek.encode('UTF-8')\n",
    "print(unicode)\n"
   ]
  },
  {
   "cell_type": "markdown",
   "metadata": {},
   "source": [
    "Convert Bite to Strings   (.decode())\n",
    " "
   ]
  },
  {
   "cell_type": "code",
   "execution_count": 15,
   "metadata": {},
   "outputs": [
    {
     "name": "stdout",
     "output_type": "stream",
     "text": [
      "μου αρεσει να παιζω ποδοσφαιρο\n"
     ]
    }
   ],
   "source": [
    "unicode2greek = unicode.decode('UTF-8')\n",
    "print(unicode2greek)\n"
   ]
  },
  {
   "cell_type": "markdown",
   "metadata": {},
   "source": [
    "Lists (are sequences of objects)"
   ]
  },
  {
   "cell_type": "code",
   "execution_count": 16,
   "metadata": {},
   "outputs": [
    {
     "data": {
      "text/plain": [
       "3"
      ]
     },
     "execution_count": 16,
     "metadata": {},
     "output_type": "execute_result"
    }
   ],
   "source": [
    "list= ['apple',3,'orange']\n",
    "list[1]"
   ]
  },
  {
   "cell_type": "code",
   "execution_count": null,
   "metadata": {},
   "outputs": [],
   "source": []
  },
  {
   "cell_type": "code",
   "execution_count": 20,
   "metadata": {},
   "outputs": [
    {
     "name": "stdout",
     "output_type": "stream",
     "text": [
      "['apple']\n",
      "['apple', '23.234']\n"
     ]
    }
   ],
   "source": [
    "list_2=[]#this is an empty list\n",
    "list_2.append('apple')#append adds an object to our list\n",
    "print(list_2)\n",
    "list_2.append('23.234')\n",
    "print(list_2)"
   ]
  },
  {
   "cell_type": "markdown",
   "metadata": {},
   "source": [
    "Dict: Maps keys to values"
   ]
  },
  {
   "cell_type": "code",
   "execution_count": 7,
   "metadata": {},
   "outputs": [],
   "source": [
    "telephone_book = {'alice':'12345678910', 'bob':'01987654321'}\n",
    "telephone_book['alice'] #this gives value of a particular kep\n",
    "telephone_book #this shows the whole dict\n",
    "telephone_book['charles']='312435465'#this adds a new key and value\n"
   ]
  },
  {
   "cell_type": "markdown",
   "metadata": {},
   "source": [
    "For Loop\n"
   ]
  },
  {
   "cell_type": "code",
   "execution_count": 9,
   "metadata": {},
   "outputs": [
    {
     "name": "stdout",
     "output_type": "stream",
     "text": [
      "Newcastle\n",
      "London\n",
      "Edinburgh\n",
      "Glasgow\n",
      "Cragside\n"
     ]
    }
   ],
   "source": [
    "cities=[\"Newcastle\",\"London\",\"Edinburgh\",\"Glasgow\",\"Cragside\"]\n",
    "for city in cities:\n",
    "    print(city)"
   ]
  },
  {
   "cell_type": "code",
   "execution_count": 15,
   "metadata": {},
   "outputs": [
    {
     "name": "stdout",
     "output_type": "stream",
     "text": [
      "alice 12345678910\n",
      "bob 01987654321\n",
      "charles 312435465\n"
     ]
    }
   ],
   "source": [
    "for person in telephone_book:\n",
    "    print(person, telephone_book[person])"
   ]
  },
  {
   "cell_type": "markdown",
   "metadata": {},
   "source": [
    "Small Task\n",
    "Pythin Library =urllib\n",
    "with statement= calls urlopen function "
   ]
  },
  {
   "cell_type": "code",
   "execution_count": 28,
   "metadata": {},
   "outputs": [
    {
     "name": "stdout",
     "output_type": "stream",
     "text": [
      "['It', 'was', 'the', 'best', 'of', 'times', 'it', 'was', 'the', 'worst', 'of', 'times', 'it', 'was', 'the', 'age', 'of', 'wisdom', 'it', 'was', 'the', 'age', 'of', 'foolishness', 'it', 'was', 'the', 'epoch', 'of', 'belief', 'it', 'was', 'the', 'epoch', 'of', 'incredulity', 'it', 'was', 'the', 'season', 'of', 'Light', 'it', 'was', 'the', 'season', 'of', 'Darkness', 'it', 'was', 'the', 'spring', 'of', 'hope', 'it', 'was', 'the', 'winter', 'of', 'despair', 'we', 'had', 'everything', 'before', 'us', 'we', 'had', 'nothing', 'before', 'us', 'we', 'were', 'all', 'going', 'direct', 'to', 'Heaven', 'we', 'were', 'all', 'going', 'direct', 'the', 'other', 'way', 'in', 'short', 'the', 'period', 'was', 'so', 'far', 'like', 'the', 'present', 'period', 'that', 'some', 'of', 'its', 'noisiest', 'authorities', 'insisted', 'on', 'its', 'being', 'received', 'for', 'good', 'or', 'for', 'evil', 'in', 'the', 'superlative', 'degree', 'of', 'comparison', 'only']\n"
     ]
    }
   ],
   "source": [
    "from urllib.request import urlopen\n",
    "with urlopen('http://sixty-north.com/c/t.txt') as story:#this binds the response to avariabled named story\n",
    "    story_words=[] #emptry list which will hold all words of text\n",
    "    for line in story: #the response for http gives list so we must iterate for each list\n",
    "        line_words=line.decode('utf-8').split() #this decodes each line and also splits line into list of words\n",
    "        for word in line_words:#nested for loop, this loops over each word in the line\n",
    "            story_words.append(word) #The append() method appends a passed obj into the existing list.\n",
    "            \n",
    "print(story_words)\n",
    "   "
   ]
  }
 ],
 "metadata": {
  "kernelspec": {
   "display_name": "Python 3",
   "language": "python",
   "name": "python3"
  },
  "language_info": {
   "codemirror_mode": {
    "name": "ipython",
    "version": 3
   },
   "file_extension": ".py",
   "mimetype": "text/x-python",
   "name": "python",
   "nbconvert_exporter": "python",
   "pygments_lexer": "ipython3",
   "version": "3.6.5"
  }
 },
 "nbformat": 4,
 "nbformat_minor": 2
}
