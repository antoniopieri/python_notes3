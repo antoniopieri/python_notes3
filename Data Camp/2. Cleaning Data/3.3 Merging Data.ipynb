{
 "cells": [
  {
   "cell_type": "markdown",
   "metadata": {},
   "source": [
    "# Merging Data<h1>\n",
    "Combine disparate datasets based on commun columns using pd.merge() \n",
    "\n",
    "-One to one merge:when there are no duplicate values in any of keys\n",
    "-one to many/many to one: when there are duplicate values in one of the keys (merge will auto fill)\n",
    "-many to many = \n",
    "\n",
    "`new merged dataframe = pd.merge(left= dataframe1, right=dataframe2, left_on=common_column, right_on=common_column)`\n"
   ]
  },
  {
   "cell_type": "code",
   "execution_count": null,
   "metadata": {},
   "outputs": [],
   "source": [
    "new merged dataframe = pd.merge(left= dataframe1, right=dataframe2, \n",
    "                                left_on='common_column1', right_on='common_column2')"
   ]
  },
  {
   "cell_type": "markdown",
   "metadata": {},
   "source": [
    "One to one and one to many merge use the same function. The only things that changes is the type of data used. \n",
    "\n",
    "\n",
    "for many to many each pairwise combination will be created"
   ]
  },
  {
   "cell_type": "code",
   "execution_count": null,
   "metadata": {},
   "outputs": [],
   "source": []
  }
 ],
 "metadata": {
  "kernelspec": {
   "display_name": "Python 3",
   "language": "python",
   "name": "python3"
  },
  "language_info": {
   "codemirror_mode": {
    "name": "ipython",
    "version": 3
   },
   "file_extension": ".py",
   "mimetype": "text/x-python",
   "name": "python",
   "nbconvert_exporter": "python",
   "pygments_lexer": "ipython3",
   "version": "3.6.5"
  }
 },
 "nbformat": 4,
 "nbformat_minor": 2
}
