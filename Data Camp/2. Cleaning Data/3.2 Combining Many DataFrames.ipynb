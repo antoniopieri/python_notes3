{
 "cells": [
  {
   "cell_type": "markdown",
   "metadata": {},
   "source": [
    "# Combining Many Files <h1>\n",
    "\n",
    "The below code takes many files, loads their names into a list.\n",
    "\n",
    "It then loads the dataframes and appends it to a list.\n",
    "\n",
    "It then concats all the dataframes together"
   ]
  },
  {
   "cell_type": "code",
   "execution_count": null,
   "metadata": {},
   "outputs": [],
   "source": []
  },
  {
   "cell_type": "code",
   "execution_count": 2,
   "metadata": {},
   "outputs": [
    {
     "name": "stdout",
     "output_type": "stream",
     "text": [
      "   Unnamed: 0      Date/Time      Lat      Lon    Base\n",
      "0           0  04-01-14 0:11  40.7690 -73.9549  B02512\n",
      "1           1  04-01-14 0:17  40.7267 -74.0345  B02512\n",
      "2           2  04-01-14 0:21  40.7316 -73.9873  B02512\n",
      "3           3  04-01-14 0:28  40.7588 -73.9776  B02512\n",
      "4           4  04-01-14 0:33  40.7594 -73.9722  B02512\n"
     ]
    }
   ],
   "source": [
    "import glob \n",
    "import pandas as pd\n",
    "csv_files=glob.glob('uber_*.csv')  #this creates a list of file names \n",
    "#print(csv_files)# * means any number of characters, ? means any one character\n",
    "\n",
    "list_data=[] #here we have a empty string\n",
    "\n",
    "\n",
    "for filename in csv_files: \n",
    "    data=pd.read_csv(filename)\n",
    "    list_data.append(data)\n",
    "    \n",
    "#the for loop loads the data frame for each file and then appends it to a list\n",
    "\n",
    "concated_uber_data=pd.concat(list_data) #this concats all the dataframes in the list_data list\n",
    "print(concated_uber_data.head())\n"
   ]
  },
  {
   "cell_type": "markdown",
   "metadata": {},
   "source": [
    "EXTRA:If we want to select which dataframe to load from the csv_files list we do this..."
   ]
  },
  {
   "cell_type": "code",
   "execution_count": 3,
   "metadata": {},
   "outputs": [
    {
     "name": "stdout",
     "output_type": "stream",
     "text": [
      "   Unnamed: 0      Date/Time      Lat      Lon    Base\n",
      "0           0  04-01-14 0:11  40.7690 -73.9549  B02512\n",
      "1           1  04-01-14 0:17  40.7267 -74.0345  B02512\n",
      "2           2  04-01-14 0:21  40.7316 -73.9873  B02512\n",
      "3           3  04-01-14 0:28  40.7588 -73.9776  B02512\n",
      "4           4  04-01-14 0:33  40.7594 -73.9722  B02512\n"
     ]
    }
   ],
   "source": [
    "glob.escape\n",
    "print(pd.read_csv(csv_files[0]).head())"
   ]
  },
  {
   "cell_type": "code",
   "execution_count": null,
   "metadata": {},
   "outputs": [],
   "source": []
  }
 ],
 "metadata": {
  "kernelspec": {
   "display_name": "Python 3",
   "language": "python",
   "name": "python3"
  },
  "language_info": {
   "codemirror_mode": {
    "name": "ipython",
    "version": 3
   },
   "file_extension": ".py",
   "mimetype": "text/x-python",
   "name": "python",
   "nbconvert_exporter": "python",
   "pygments_lexer": "ipython3",
   "version": "3.6.5"
  }
 },
 "nbformat": 4,
 "nbformat_minor": 2
}
