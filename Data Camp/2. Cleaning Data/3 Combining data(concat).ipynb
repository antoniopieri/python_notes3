{
 "cells": [
  {
   "cell_type": "markdown",
   "metadata": {},
   "source": [
    "# <H1> Concatenating Data (Combining Rows)"
   ]
  },
  {
   "cell_type": "code",
   "execution_count": 4,
   "metadata": {},
   "outputs": [],
   "source": [
    "import pandas as pd\n",
    "uber3= pd.read_csv('uber_june.csv')\n",
    "uber2= pd.read_csv('uber_may.csv')\n",
    "uber1= pd.read_csv('uber_april.csv')"
   ]
  },
  {
   "cell_type": "markdown",
   "metadata": {},
   "source": [
    "To Concate the data (combine rows from difference csv files) we first load into seperate dataframes\n",
    "\n",
    "we then have to use the pd.concat() function\n"
   ]
  },
  {
   "cell_type": "code",
   "execution_count": 5,
   "metadata": {},
   "outputs": [
    {
     "name": "stdout",
     "output_type": "stream",
     "text": [
      "(297, 5)\n",
      "   Unnamed: 0      Date/Time      Lat      Lon    Base\n",
      "0           0  04-01-14 0:11  40.7690 -73.9549  B02512\n",
      "1           1  04-01-14 0:17  40.7267 -74.0345  B02512\n",
      "2           2  04-01-14 0:21  40.7316 -73.9873  B02512\n",
      "3           3  04-01-14 0:28  40.7588 -73.9776  B02512\n",
      "4           4  04-01-14 0:33  40.7594 -73.9722  B02512\n"
     ]
    }
   ],
   "source": [
    "row_concat = pd.concat([uber1,uber2,uber3], ignore_index=True) #the axis argument is default axis=0 for rows\n",
    "\n",
    "#here we have combined the dataframes\n",
    "#we have used ignore_index=True to not carry over the seperate indexes from each dataframe\n",
    "print(row_concat.shape)\n",
    "print(row_concat.head())\n",
    "\n"
   ]
  },
  {
   "cell_type": "markdown",
   "metadata": {},
   "source": [
    "# Combining columns of data <h1>\n",
    "\n",
    "\n",
    "Below the data frames we are going to join have been created"
   ]
  },
  {
   "cell_type": "code",
   "execution_count": 6,
   "metadata": {},
   "outputs": [
    {
     "name": "stdout",
     "output_type": "stream",
     "text": [
      "         Date  Day  type_country  counts\n",
      "0    1/5/2015  289  Cases_Guinea  2776.0\n",
      "1    1/4/2015  288  Cases_Guinea  2775.0\n",
      "2    1/3/2015  287  Cases_Guinea  2769.0\n",
      "3    1/2/2015  286  Cases_Guinea     NaN\n",
      "4  12/31/2014  284  Cases_Guinea  2730.0\n",
      "    type country\n",
      "0  Cases  Guinea\n",
      "1  Cases  Guinea\n",
      "2  Cases  Guinea\n",
      "3  Cases  Guinea\n",
      "4  Cases  Guinea\n"
     ]
    }
   ],
   "source": [
    "ebola= pd.read_csv('ebola.csv')\n",
    "ebola_melt=pd.melt(ebola, id_vars=['Date','Day'], value_name='counts',var_name='type_country')\n",
    "\n",
    "\n",
    "\n",
    "str_split=pd.DataFrame()\n",
    "str_split['str_split']=ebola_melt.type_country.str.split('_') \n",
    "str_split\n",
    "status_country=pd.DataFrame()\n",
    "status_country['type'] = str_split.str_split.str.get(0)\n",
    "status_country['country'] = str_split.str_split.str.get(1)\n",
    "print(ebola_melt.head())     #these are the two data frames we are going to join\n",
    "print(status_country.head())\n"
   ]
  },
  {
   "cell_type": "markdown",
   "metadata": {},
   "source": [
    "LETS COMBINE SOME COLUMNS!!"
   ]
  },
  {
   "cell_type": "code",
   "execution_count": 8,
   "metadata": {},
   "outputs": [],
   "source": [
    "ebola_tidy=pd.concat([ebola_melt, status_country],axis=1) #axis=1 to combine columns\n",
    "ebola_tidy.to_csv('test.csv')"
   ]
  },
  {
   "cell_type": "code",
   "execution_count": null,
   "metadata": {},
   "outputs": [],
   "source": []
  }
 ],
 "metadata": {
  "kernelspec": {
   "display_name": "Python 3",
   "language": "python",
   "name": "python3"
  },
  "language_info": {
   "codemirror_mode": {
    "name": "ipython",
    "version": 3
   },
   "file_extension": ".py",
   "mimetype": "text/x-python",
   "name": "python",
   "nbconvert_exporter": "python",
   "pygments_lexer": "ipython3",
   "version": "3.6.5"
  }
 },
 "nbformat": 4,
 "nbformat_minor": 2
}
