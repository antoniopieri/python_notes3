{
 "cells": [
  {
   "cell_type": "markdown",
   "metadata": {},
   "source": [
    "# <H1> Concatenating Data (Combining Rows)"
   ]
  },
  {
   "cell_type": "code",
   "execution_count": null,
   "metadata": {},
   "outputs": [],
   "source": []
  },
  {
   "cell_type": "code",
   "execution_count": 5,
   "metadata": {},
   "outputs": [],
   "source": [
    "import pandas as pd\n",
    "uber3= pd.read_csv('uber_june.csv')\n",
    "uber2= pd.read_csv('uber_may.csv')\n",
    "uber1= pd.read_csv('uber_april.csv')\n",
    "\n"
   ]
  },
  {
   "cell_type": "markdown",
   "metadata": {},
   "source": [
    "To Concate the data (combine rows from difference csv files) we first load into seperate dataframes\n",
    "\n",
    "we then have to use the pd.concat() function\n"
   ]
  },
  {
   "cell_type": "code",
   "execution_count": 10,
   "metadata": {},
   "outputs": [
    {
     "name": "stdout",
     "output_type": "stream",
     "text": [
      "(297, 5)\n",
      "   Unnamed: 0      Date/Time      Lat      Lon    Base\n",
      "0           0  04-01-14 0:11  40.7690 -73.9549  B02512\n",
      "1           1  04-01-14 0:17  40.7267 -74.0345  B02512\n",
      "2           2  04-01-14 0:21  40.7316 -73.9873  B02512\n",
      "3           3  04-01-14 0:28  40.7588 -73.9776  B02512\n",
      "4           4  04-01-14 0:33  40.7594 -73.9722  B02512\n"
     ]
    }
   ],
   "source": [
    "row_concat = pd.concat([uber1,uber2,uber3], ignore_index=True) #the axis argument is default axis=0 for rows\n",
    "\n",
    "#here we have combined the dataframes\n",
    "#we have used ignore_index=True to not carry over the seperate indexes from each dataframe\n",
    "print(row_concat.shape)\n",
    "print(row_concat.head())"
   ]
  },
  {
   "cell_type": "markdown",
   "metadata": {},
   "source": [
    "# Combining columns of data <h1>\n",
    "\n",
    "\n",
    "Below the data frames we are going to join have been created"
   ]
  },
  {
   "cell_type": "code",
   "execution_count": 38,
   "metadata": {},
   "outputs": [],
   "source": [
    "ebola= pd.read_csv('ebola.csv')\n",
    "ebola_melt=pd.melt(ebola, id_vars=['Date','Day'], value_name='counts',var_name='type_country')\n",
    "\n",
    "\n",
    "status_country=pd.DataFrame()\n",
    "str_split=pd.DataFrame()\n",
    "str_split['str_split']=ebola_melt.type_country.str.split('_') \n",
    "status_country['type'] = str_split.str_split.str.get(0)\n",
    "status_country['country'] = str_split.str_split.str.get(1)\n",
    "#print(ebola_melt.head())     #these are the two data frames we are going to join\n",
    "#print(status_country.head())\n"
   ]
  },
  {
   "cell_type": "markdown",
   "metadata": {},
   "source": [
    "LETS COMBINE SOME COLUMNS!!"
   ]
  },
  {
   "cell_type": "code",
   "execution_count": 41,
   "metadata": {},
   "outputs": [],
   "source": [
    "ebola_tidy=pd.concat([ebola_melt, status_country],axis=1) #axis=1 to combine columns\n"
   ]
  }
 ],
 "metadata": {
  "kernelspec": {
   "display_name": "Python 3",
   "language": "python",
   "name": "python3"
  },
  "language_info": {
   "codemirror_mode": {
    "name": "ipython",
    "version": 3
   },
   "file_extension": ".py",
   "mimetype": "text/x-python",
   "name": "python",
   "nbconvert_exporter": "python",
   "pygments_lexer": "ipython3",
   "version": "3.6.5"
  }
 },
 "nbformat": 4,
 "nbformat_minor": 2
}
