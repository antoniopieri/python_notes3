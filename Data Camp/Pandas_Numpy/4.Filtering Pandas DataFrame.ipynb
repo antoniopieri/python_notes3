{
 "cells": [
  {
   "cell_type": "markdown",
   "metadata": {},
   "source": [
    "Filter Results in a Column"
   ]
  },
  {
   "cell_type": "code",
   "execution_count": 14,
   "metadata": {},
   "outputs": [
    {
     "name": "stdout",
     "output_type": "stream",
     "text": [
      "     cars_per_cap        country  drives_right\n",
      "US            809  United States         False\n",
      "AUS           731      Australia         False\n",
      "JAP           588          Japan         False\n",
      "IN             18          India          True\n",
      "RU            200         Russia          True\n",
      "MOR            70        Morocco          True\n",
      "EG             45          Egypt          True\n",
      "US      True\n",
      "AUS     True\n",
      "JAP     True\n",
      "IN     False\n",
      "RU     False\n",
      "MOR    False\n",
      "EG     False\n",
      "Name: cars_per_cap, dtype: bool\n",
      "     cars_per_cap        country  drives_right\n",
      "US            809  United States         False\n",
      "AUS           731      Australia         False\n",
      "JAP           588          Japan         False\n"
     ]
    }
   ],
   "source": [
    "import pandas as pd\n",
    "data=pd.read_csv('data.csv', index_col=0) #reads data in\n",
    "print(data)\n",
    "cars_large=data['cars_per_cap']>500 #creates new series of boolean expression (true or false) \n",
    "\n",
    "print(cars_large)\n",
    "\n",
    "\n",
    "large_car_df=data[cars_large] #this chooses only the true ones in the data frame\n",
    "\n",
    "\n",
    "print(large_car_df)"
   ]
  },
  {
   "cell_type": "code",
   "execution_count": 43,
   "metadata": {},
   "outputs": [
    {
     "name": "stdout",
     "output_type": "stream",
     "text": [
      "US     809\n",
      "AUS    731\n",
      "JAP    588\n",
      "IN      18\n",
      "RU     200\n",
      "MOR     70\n",
      "EG      45\n",
      "Name: cars_per_cap, dtype: int64\n",
      "US      True\n",
      "AUS     True\n",
      "JAP     True\n",
      "IN     False\n",
      "RU      True\n",
      "MOR    False\n",
      "EG     False\n",
      "Name: cars_per_cap, dtype: bool\n",
      "     cars_per_cap        country  drives_right\n",
      "US            809  United States         False\n",
      "AUS           731      Australia         False\n",
      "JAP           588          Japan         False\n",
      "RU            200         Russia          True\n"
     ]
    }
   ],
   "source": [
    "import numpy as np\n",
    "data=pd.read_csv('data.csv', index_col=0)\n",
    "print(data['cars_per_cap'])\n",
    "\n",
    "bool_series=np.logical_or(data['cars_per_cap']>500,data['cars_per_cap']==200) #used numpy logical_or to use two conditions nd then created a series of true and false\n",
    "print(bool_series)\n",
    "data_conditions=data[bool_series] # this chooses only the true ones and then creates another dataframe\n",
    "print(data_conditions)\n",
    "#medium=data[np.logical_and(data['cars_per_cap']>100,data['cars_per_cap']<500)]"
   ]
  },
  {
   "cell_type": "code",
   "execution_count": null,
   "metadata": {},
   "outputs": [],
   "source": []
  }
 ],
 "metadata": {
  "kernelspec": {
   "display_name": "Python 3",
   "language": "python",
   "name": "python3"
  },
  "language_info": {
   "codemirror_mode": {
    "name": "ipython",
    "version": 3
   },
   "file_extension": ".py",
   "mimetype": "text/x-python",
   "name": "python",
   "nbconvert_exporter": "python",
   "pygments_lexer": "ipython3",
   "version": "3.6.5"
  }
 },
 "nbformat": 4,
 "nbformat_minor": 2
}
